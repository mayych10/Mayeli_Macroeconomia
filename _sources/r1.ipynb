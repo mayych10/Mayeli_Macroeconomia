{
 "cells": [
  {
   "cell_type": "markdown",
   "id": "c6c5e4f1",
   "metadata": {},
   "source": [
    "# Capítulo 1: Mercado de Bienes: Consumo, Inversión, Determinación del Precio, y la Politica Fiscal \n"
   ]
  },
  {
   "cell_type": "markdown",
   "id": "767ce802",
   "metadata": {},
   "source": [
    "## Parte 1: Reporte\n",
    "\n",
    "El presente reporte busca responder a la cuestión del impacto inflacionario en la economía peruana a causa del choque externo. De manera que se plantea como objetivo describir cómo los factores externos adversos han impactado en la recesión e inflación. Asimismo, analiza las políticas monetarias y fiscales aplicadas en respuesta al choque externo en la macroeconomía peruana en un periodo determinado 2014-15. \n",
    "\n",
    "Entre las fortalezas que presenta el documento encontramos que explica con detalle las políticas monetarias y fiscales aplicadas para contener el choque externo y su impacto en la recesión e inflación que atraviesa el perú. Además contribuye a responder como los choques externos impactan en la inflación y recesión de la economía del perú y considero una fortaleza del texto rescatar cómo se actuó en otros periodos de manera que permite comparar con otras decisiones tomadas por otros gobiernos y cómo resultaron. \n",
    "\n",
    "Por otro lado, entre las debilidades encontramos que el autor se ha centrado sólo en las políticas monetarias y fiscales\n",
    "podría haber incluido otros factores como () para explicar las causales de la inflación ya que se centra solo en el choque externo relacionado al precio del dólar, los precios de los metales . \n",
    "\n",
    "Considero que el artículo contribuye en gran medida a la comprensión del fenómeno denominado “vacas flacas” que atraviesa la economía peruana en ciertos periodos. De manera que Dancourt explica a detalle las medidas tomadas en cuanto a la política monetaria. En primer lugar menciona que el Banco Central había vendido la mitad de las reservas de las divisas propias del banco. Pero es claro que el el Banco Central de Reserva del Perú se ha excedido largamente en sus ventas de dólares y eso compromete a la política monetaria futura.Porque necesito tener las reservas cuando llegan los momentos de la crisis el choque externo es adverso. Segundo es que el Banco Central no respondió a la desaceleración de la economía urbana con un agresivo ciclo de reducción de la tasa de interés de referencia. Por lo que no contrarresta del impulso recesivo generado por el choque externo adverso y esto lo usa para moderar la subida del tipo de cambio esta rebaja de la tasa de referencia en la primera fase tiene características que mermaron su impacto positivo. \n",
    "\n",
    "El Banco Central terminó vendiendo la mitad de sus reservas de divisas para moderar el alza del tipo de cambio sin rebajar la tasa de interés de referencia. Tercero, la política fiscal con el pretexto de elevar la inversión privada y reactivar la economía.Redujo el costo de mano de obra y el costo de contaminación ambiental ha dado su esfuerzo a la reforma estructural que a una estabilización macroeconómica. Segundo, es que el Ministerio de Economía y Finanzas redujo la inversión pública, especialmente la que se realizaba por gobiernos locales y regionales, por lo que la economía se \"enfrió\".Se podría haber financiado fácilmente una inversión pública mayor y así un déficit fiscal mayor.Y porque el Gobierno, pero no tiene acceso al fluido al crédito de los mercados internos y externos de bonos. El tercer punto, el Ministerio de.Economía y finanzas lanzó un paquete de rebajas impositivas, jefe dirigida a las empresas.Y que provocó la caída de los ingresos fiscales y a ello se sumó el efecto de la desaceleración de la actividad económica y la disminución de los precios de las materias primas. Entonces, el efecto neto sobre la actividad económica de la rebaja impositiva y el recorte de la inversión pública fue recesivo en ese momento y teniendo así un impacto contractivo en la economía. \n",
    "\n",
    " "
   ]
  },
  {
   "cell_type": "markdown",
   "id": "9419022f",
   "metadata": {},
   "source": [
    "## Parte 2: Código en Python\n",
    "Derivación:\n",
    "\n",
    "1. Derive y explique la función de demanda de Consumo. Replique el gráfico siguiente:"
   ]
  },
  {
   "cell_type": "code",
   "execution_count": 5,
   "id": "713dd7ad",
   "metadata": {},
   "outputs": [],
   "source": [
    "\n",
    "import ipywidgets as widgets\n",
    "import matplotlib.pyplot as plt\n",
    "import numpy as np\n",
    "import sympy as sy\n",
    "from sympy import *\n",
    "import pandas as pd\n",
    "#from causalgraphicalmodels import CausalGraphicalModel"
   ]
  },
  {
   "cell_type": "markdown",
   "id": "3b8fdab7",
   "metadata": {},
   "source": [
    "$$ C = C_0 + bY^d $$\n",
    "$$ C = C_0 + b(1-t)Y $$\n",
    "- El aumento de la demanda de inversión, genera un incremente en los ingresos y produccion de ese sector. Este incremento genera que la demanda de consumo se eleve. \n"
   ]
  },
  {
   "cell_type": "code",
   "execution_count": 37,
   "id": "c83149ce",
   "metadata": {},
   "outputs": [
    {
     "data": {
      "text/plain": [
       "array([ 0,  1,  2,  3,  4,  5,  6,  7,  8,  9, 10, 11, 12, 13, 14, 15, 16,\n",
       "       17, 18, 19, 20, 21, 22, 23, 24, 25, 26, 27, 28, 29, 30, 31, 32, 33,\n",
       "       34, 35, 36, 37, 38, 39, 40, 41, 42, 43, 44, 45, 46, 47, 48, 49, 50,\n",
       "       51, 52, 53, 54, 55, 56, 57, 58, 59, 60, 61, 62, 63, 64, 65, 66, 67,\n",
       "       68, 69, 70, 71, 72, 73, 74, 75, 76, 77, 78, 79, 80, 81, 82, 83, 84,\n",
       "       85, 86, 87, 88, 89, 90, 91, 92, 93, 94, 95, 96, 97, 98, 99])"
      ]
     },
     "execution_count": 37,
     "metadata": {},
     "output_type": "execute_result"
    }
   ],
   "source": [
    "z_size = 100          # tamaño: cuantos valores queremos\n",
    "z = np.arange(z_size) # creación de la lista\n",
    "z                     # lista con 100 valores"
   ]
  },
  {
   "cell_type": "code",
   "execution_count": 38,
   "id": "6d595ed7",
   "metadata": {},
   "outputs": [],
   "source": [
    "def funcion_1 (z, x):\n",
    "    funcion_1 = (0.5 *(2*z + x ))\n",
    "    return funcion_1\n",
    "\n",
    "f1 = funcion_1(10, z)"
   ]
  },
  {
   "cell_type": "code",
   "execution_count": 42,
   "id": "53a1a53d",
   "metadata": {},
   "outputs": [
    {
     "data": {
      "image/png": "[encoded data removed]",
      "text/plain": [
       "<Figure size 432x288 with 1 Axes>"
      ]
     },
     "metadata": {
      "needs_background": "light"
     },
     "output_type": "display_data"
    }
   ],
   "source": [
    "plt.plot(f1, color = \"purple\")\n",
    "\n",
    "\n",
    "plt.axvline(x = 10, ymin= 0, ymax = 0.60, linestyle = \":\", color = \"grey\")\n",
    "plt.axhline(y = 10, xmin= 0, xmax = 0.41, linestyle = \":\", color = \"grey\")\n",
    "plt.axvline(x = 20,  ymin= 0, ymax = 0.60, linestyle = \":\", color = \"grey\")\n",
    "plt.axhline(y = 20, xmin= 0, xmax = 0.41, linestyle = \":\", color = \"grey\")\n",
    "plt.axvline(x = 30, ymin= 0, ymax = 0.60, linestyle = \":\", color = \"grey\")\n",
    "plt.axhline(y = 30, xmin= 0, xmax = 0.41, linestyle = \":\", color = \"grey\")\n",
    "plt.axvline(x = 40,  ymin= 0, ymax = 0.60, linestyle = \":\", color = \"grey\")\n",
    "plt.axhline(y = 40, xmin= 0, xmax = 0.41, linestyle = \":\", color = \"grey\")\n",
    "\n",
    "# Texto agregado\n",
    "plt.text(30, 50, '$PMgC=∆C/∆Y^d=b=0.5$', fontsize = 11.5, color = 'black')\n",
    "plt.text(42, 25, '$∆C$', fontsize = 11.5, color = 'black')\n",
    "plt.text(30, 15, '$∆Y^d$', fontsize = 11.5, color = 'black')\n",
    "\n",
    "plt.title(\"Función demanda de consumo\")\n",
    "plt.xlabel(\"Y^d\")\n",
    "plt.ylabel(\"C\")\n",
    "\n",
    "\n",
    "plt.show()"
   ]
  },
  {
   "cell_type": "markdown",
   "id": "11b655a1",
   "metadata": {},
   "source": [
    "2. Derive y explique la función de Inversión. Replique el gráfico siguiente: "
   ]
  },
  {
   "cell_type": "markdown",
   "id": "9fb80db7",
   "metadata": {},
   "source": [
    "Se tiene que la demanda de inversion es:\n",
    "$$ I = I_0 - hr $$"
   ]
  },
  {
   "cell_type": "code",
   "execution_count": 18,
   "id": "ae62f463",
   "metadata": {},
   "outputs": [
    {
     "data": {
      "text/plain": [
       "array([ 0,  1,  2,  3,  4,  5,  6,  7,  8,  9, 10, 11, 12, 13, 14, 15, 16,\n",
       "       17, 18, 19, 20, 21, 22, 23, 24, 25, 26, 27, 28, 29, 30, 31, 32, 33,\n",
       "       34, 35, 36, 37, 38, 39, 40, 41, 42, 43, 44, 45, 46, 47, 48, 49, 50,\n",
       "       51, 52, 53, 54, 55, 56, 57, 58, 59, 60, 61, 62, 63, 64, 65, 66, 67,\n",
       "       68, 69, 70, 71, 72, 73, 74, 75, 76, 77, 78, 79, 80, 81, 82, 83, 84,\n",
       "       85, 86, 87, 88, 89, 90, 91, 92, 93, 94])"
      ]
     },
     "execution_count": 18,
     "metadata": {},
     "output_type": "execute_result"
    }
   ],
   "source": [
    "#Gráfico\n",
    "\n",
    "z_size = 95         \n",
    "z = np.arange(z_size)\n",
    "z  "
   ]
  },
  {
   "cell_type": "code",
   "execution_count": 19,
   "id": "6f06e206",
   "metadata": {},
   "outputs": [
    {
     "data": {
      "text/plain": [
       "array([95, 94, 93, 92, 91, 90, 89, 88, 87, 86, 85, 84, 83, 82, 81, 80, 79,\n",
       "       78, 77, 76, 75, 74, 73, 72, 71, 70, 69, 68, 67, 66, 65, 64, 63, 62,\n",
       "       61, 60, 59, 58, 57, 56, 55, 54, 53, 52, 51, 50, 49, 48, 47, 46, 45,\n",
       "       44, 43, 42, 41, 40, 39, 38, 37, 36, 35, 34, 33, 32, 31, 30, 29, 28,\n",
       "       27, 26, 25, 24, 23, 22, 21, 20, 19, 18, 17, 16, 15, 14, 13, 12, 11,\n",
       "       10,  9,  8,  7,  6,  5,  4,  3,  2,  1])"
      ]
     },
     "execution_count": 19,
     "metadata": {},
     "output_type": "execute_result"
    }
   ],
   "source": [
    "def funcion_2(x, z):\n",
    "    funcion_2 = (x - z)\n",
    "    return funcion_2 \n",
    "funcion_2(95, z)"
   ]
  },
  {
   "cell_type": "code",
   "execution_count": 20,
   "id": "3f1b9e7a",
   "metadata": {},
   "outputs": [],
   "source": [
    "f2 = funcion_2(95, z)\n",
    "Z = np.arange(z_size)\n",
    "\n",
    "a = -2.5\n",
    "\n",
    "def L_45(a, Z):\n",
    "    L_45 = a*Z\n",
    "    return L_45\n",
    "L_45 = L_45(a, Z)"
   ]
  },
  {
   "cell_type": "code",
   "execution_count": 44,
   "id": "a4567ccd",
   "metadata": {},
   "outputs": [
    {
     "data": {
      "text/plain": [
       "Text(0, 0.5, 'I')"
      ]
     },
     "execution_count": 44,
     "metadata": {},
     "output_type": "execute_result"
    },
    {
     "data": {
      "image/png": "[encoded data removed]",
      "text/plain": [
       "<Figure size 576x432 with 1 Axes>"
      ]
     },
     "metadata": {},
     "output_type": "display_data"
    }
   ],
   "source": [
    "y_max = np.max(L_45)\n",
    "fig, ax = plt.subplots(figsize=(8, 6))\n",
    " \n",
    "ax.plot(Z, L_45, color = \"#404040\")\n",
    "ax.yaxis.set_major_locator(plt.NullLocator())  \n",
    "ax.xaxis.set_major_locator(plt.NullLocator())\n",
    "plt.text(80, -180, '$I = I_0 - hr$', fontsize = 14, color = 'black')\n",
    "\n",
    "\n",
    "plt.title(\"Función demanda de Inversión\")\n",
    "plt.xlabel(\"r\")\n",
    "plt.ylabel(\"I\")\n"
   ]
  },
  {
   "cell_type": "markdown",
   "id": "8602c04a",
   "metadata": {},
   "source": [
    "3. ¿Cuáles son los supuestos del modelo Ingreso-Gasto Keynesiano?\n",
    "- Supone que el equilibrio para Demanda Agregada se deriva de la condición que el ingreso es igual a la demanda agregada. De ello se obtiene que la siguiente formúla de la Demanda Agregada: \n",
    "$$ DA = C + I + G + X - M $$\n",
    " \n",
    " Entonces: \n",
    " 1) Es un modelo de corto plazo.\n",
    "\n",
    "2) El nivel de precios es rígido o fijo.\n",
    "\n",
    "3) El nivel del producción $(Y)$ se adapta a los cambios de la Demanda Agregada $(DA)$.\n",
    "\n",
    "4) La tasa de interés $(r)$ se determina afuera del modelo de Ingreso-Gasto. Se da en el mercado monetario $(LM)$."
   ]
  },
  {
   "cell_type": "markdown",
   "id": "b4a7c11f",
   "metadata": {},
   "source": [
    "4. A partir de las siguientes ecuaciones\n",
    "\n",
    "- Encuentre el nivel de Ingreso de equilibrio $Y^e$\n",
    "\n",
    "La ecuación de equilibrio para el Ingreso se deriva de la condición de equilibrio donde el nivel de producción es igual a la Demanda Agregada: $DA = Y$:\n",
    "\n",
    "$$ DA = C + I + G + X - M $$\n",
    "\n",
    "Donde:\n",
    "\n",
    "$$ C = C_0 + bY^d $$\n",
    "$$ I = I_0 - hr $$\n",
    "$$ G = G_0 $$\n",
    "$$ X = X_0 $$\n",
    "$$ M = mY^d $$\n",
    "\n",
    "$$ Y^d = 1 - t $$\n",
    "\n",
    "Entonces: \n",
    "\n",
    "$$ DA = C_0 + I_0 + G_0 + X_0 - hr + Y(b - m)(1 - t) $$\n",
    "\n",
    "De forma corta:\n",
    "\n",
    "$$ DA = α_0 + α_1Y $$\n",
    "\n",
    "Donde $ α_0 = (C_0 + I_0 + G_0 + X_0 -hr)$ es el intercepto y $ α_1 = (b - m)(1 - t) $ es la pendiente de la función\n",
    "\n",
    "\n",
    "Ahora, considerando la condición de equilibrio $Y = DA$, la ecuación del ingreso de equilibrio a corto plazo es:\n",
    "\n",
    "$$ Y^e = C_0 + bY^d + I_0 -hr + G_0 + X_0 - mY^d $$\n",
    "\n",
    "$$ Y^e = \\frac{1}{1 - (b - m)(1 - t)} (C_0 + I_0 + G_0 + X_0 - hr) $$\n"
   ]
  },
  {
   "cell_type": "markdown",
   "id": "264a9f6a",
   "metadata": {},
   "source": [
    "Donde $\\frac{1}{1 - (b - m)(1 - t)}$ es el multiplicador keynesiano $(k)$."
   ]
  },
  {
   "cell_type": "markdown",
   "id": "98d7fab4",
   "metadata": {},
   "source": [
    "- Replique el siguiente gráfico con todas descripciones encima de las rectas.\n"
   ]
  },
  {
   "cell_type": "code",
   "execution_count": 46,
   "id": "b234e0ba",
   "metadata": {},
   "outputs": [],
   "source": [
    "# Parámetros\n",
    "\n",
    "Y_size = 100 \n",
    "\n",
    "Co = 35\n",
    "Io = 40\n",
    "Go = 70\n",
    "Xo = 2\n",
    "h = 0.7\n",
    "b = 0.81 # b > m\n",
    "m = 0.2\n",
    "t = 0.3\n",
    "r = 0.9\n",
    "\n",
    "Y = np.arange(Y_size)\n",
    "\n",
    "# Ecuación de la curva del ingreso de equilibrio\n",
    "\n",
    "def DA_K(Co, Io, Go, Xo, h, r, b, m, t, Y):\n",
    "    DA_K = (Co + Io + Go + Xo - h*r) + ((b - m)*(1 - t)*Y)\n",
    "    return DA_K\n",
    "\n",
    "DA_IS_K = DA_K(Co, Io, Go, Xo, h, r, b, m, t, Y)"
   ]
  },
  {
   "cell_type": "code",
   "execution_count": 47,
   "id": "3f955881",
   "metadata": {},
   "outputs": [],
   "source": [
    "# Recta de 45°\n",
    "\n",
    "a = 2.5 \n",
    "\n",
    "def L_45(a, Y):\n",
    "    L_45 = a*Y\n",
    "    return L_45\n",
    "\n",
    "L_45 = L_45(a, Y)"
   ]
  },
  {
   "cell_type": "code",
   "execution_count": 126,
   "id": "6f67b2e4",
   "metadata": {},
   "outputs": [
    {
     "data": {
      "image/png": "[encoded data removed]",
      "text/plain": [
       "<Figure size 720x576 with 1 Axes>"
      ]
     },
     "metadata": {},
     "output_type": "display_data"
    }
   ],
   "source": [
    "y_max = np.max(DA_IS_K)\n",
    "fig, ax = plt.subplots(figsize=(10, 8))\n",
    "\n",
    "# Curvas a graficar\n",
    "ax.plot(Y, DA_IS_K, label = \"DA\", color = \"#3D59AB\") #Demanda agregada\n",
    "ax.plot(Y, L_45, color = \"#404040\") #Línea de 45º\n",
    "\n",
    "# Eliminar las cantidades de los ejes\n",
    "ax.yaxis.set_major_locator(plt.NullLocator())   \n",
    "ax.xaxis.set_major_locator(plt.NullLocator())\n",
    "\n",
    "\n",
    "# Líneas punteadas punto de equilibrio\n",
    "plt.axvline(x=70.5,  ymin= 0, ymax= 0.69, linestyle = \":\", color = \"grey\")\n",
    "plt.axhline(y=176, xmin= 0, xmax= 0.7, linestyle = \":\", color = \"grey\")\n",
    "plt.axhline(y=145, xmin= 0, xmax= 0.9, linestyle = \":\", color = \"grey\")\n",
    "\n",
    "#Flechas \n",
    "\n",
    "plt.arrow(90, 185, 6, 15, width = 0.05) \n",
    "plt.arrow(62, 130, 6, 15, width = 0.05)\n",
    "\n",
    "# Texto agregado\n",
    "    \n",
    "    # punto de equilibrio\n",
    "plt.text(0, 180, '$DA^e$', fontsize = 11.5, color = 'black')\n",
    "plt.text(72, 0, '$Y^e$', fontsize = 12, color = 'black')\n",
    "plt.text(0, 152, '$α_o$', fontsize = 15, color = 'black')\n",
    "   \n",
    "    # línea 45º\n",
    "plt.text(6, 4, '$45°$', fontsize = 11.5, color = 'black')\n",
    "plt.text(2.5, -3, '$◝$', fontsize = 30, color = '#404040')\n",
    "\n",
    "# Título y leyenda\n",
    "ax.set(title=\"El ingreso de Equilibrio a Corto Plazo\", xlabel= r'Y', ylabel= r'DA')\n",
    "ax.legend() #mostrar leyenda\n",
    "\n",
    "#Anotaciones\n",
    "\n",
    "plt.text(101, 205, '$DA= α_0 + α_1Y$', fontsize = 15, color = 'black')\n",
    "plt.text(101, 185, '$α_1=(b-m)(1-t)$', fontsize = 11.5, color = 'black')\n",
    "plt.text(48, 115, '$α_o= (C_0+I_0+G_0+X_0-hr)$', fontsize = 15, color = 'black')\n",
    "\n",
    "\n",
    "plt.show()"
   ]
  },
  {
   "cell_type": "markdown",
   "id": "16715b1c",
   "metadata": {},
   "source": [
    "5. Estática comparativa en el modelo de Ingreso-Gasto keynesiano\n",
    "\n",
    "- Analice una Política Fiscal Expansiva con aumento del Gasto del Gobierno $(△G>0)$. El análisis debe ser intuitivo, matemático y gráfico.\n",
    "\n"
   ]
  },
  {
   "cell_type": "markdown",
   "id": "fc96457f",
   "metadata": {},
   "source": [
    "- Intuición: \n",
    "\n",
    "$$ ↑Go → ↑DA → DA > Y → ↑Y $$"
   ]
  },
  {
   "cell_type": "markdown",
   "id": "dda19c82",
   "metadata": {},
   "source": [
    "- Matemáticamente: $∆G_0 > 0  →  ¿∆Y?$\n",
    "\n",
    "$$ Y = \\frac{1}{1 - (b - m)(1 - t)} (C_0 + I_0 + G_0 + X_0 - hr) $$\n",
    "\n",
    "Considerando el multiplicador keynesiano $(k)$:\n",
    "\n",
    "$$ Y = k (C_0 + I_0 + G_0 + X_0 - hr) $$\n",
    "\n",
    "\n",
    "$$ ∆Y = k (∆C_0 + ∆I_0 + ∆G_0 + ∆X_0 - ∆hr) $$"
   ]
  },
  {
   "cell_type": "markdown",
   "id": "9578bf83",
   "metadata": {},
   "source": [
    "Pero, si no ha habido cambios en $C_0$, $I_0$, $X_0$, $h$ ni $r$, entonces: \n",
    "\n",
    "$$∆C_0 = ∆I_0 = ∆X_0 = ∆h = ∆r = 0$$\n",
    "\n",
    "$$ ∆Y = k (∆G_0) $$\n"
   ]
  },
  {
   "cell_type": "markdown",
   "id": "00807cb8",
   "metadata": {},
   "source": [
    "Sabiendo que $∆G_0 > 0 $ y que $k > 0$, la multiplicación de un número positivo con otro positivo dará un positivo:\n",
    "\n",
    "$$ ∆Y = (+)(+) $$\n",
    "$$ ∆Y > 0 $$"
   ]
  },
  {
   "cell_type": "code",
   "execution_count": 6,
   "id": "10c2ccd2",
   "metadata": {},
   "outputs": [
    {
     "data": {
      "text/latex": [
       "$\\displaystyle \\frac{1}{- \\left(1 - t\\right) \\left(b - m\\right) + 1}$"
      ],
      "text/plain": [
       "1/(-(1 - t)*(b - m) + 1)"
      ]
     },
     "execution_count": 6,
     "metadata": {},
     "output_type": "execute_result"
    }
   ],
   "source": [
    "# Diferenciales\n",
    "\n",
    "    # nombrar variables como símbolos\n",
    "Co, Io, Go, Xo, h, r, b, m, t = symbols('Co Io Go Xo h r b m t')\n",
    "\n",
    "    # determinar ecuación\n",
    "f = (Co + Io + Go + Xo - h*r)/(1-(b-m)*(1-t))\n",
    "\n",
    "    # función diferencial\n",
    "df_Go = diff(f, Go) # diff(función, variable_analizar\n",
    "df_Go #∆Y/∆Go"
   ]
  },
  {
   "cell_type": "markdown",
   "id": "417dd5ef",
   "metadata": {},
   "source": [
    "Considernado el diferencial obtenido:\n",
    "\n",
    "$$ \\frac{∆Y}{∆Go} = \\frac{1}{1 - (b - m)(1 - t)} $$"
   ]
  },
  {
   "cell_type": "markdown",
   "id": "e8b8cf90",
   "metadata": {},
   "source": [
    "Sabiendo que $∆G_0 > 0 $ y que $k > 0$, la multiplicación de un número positivo con otro positivo dará un positivo:\n",
    "\n",
    "$$ \\frac{∆Y}{(+)} = (+) $$\n",
    "$$ ∆Y = (+)(+) $$\n",
    "$$ ∆Y > 0 $$"
   ]
  },
  {
   "cell_type": "markdown",
   "id": "7bd459bd",
   "metadata": {},
   "source": [
    "##### - Graficamente: "
   ]
  },
  {
   "cell_type": "code",
   "execution_count": 57,
   "id": "3334d864",
   "metadata": {},
   "outputs": [],
   "source": [
    "# Curva de ingreso de equilibrio Original \n",
    "\n",
    "    #Parámetros\n",
    "    \n",
    "Y_size = 100 \n",
    "\n",
    "Co = 35\n",
    "Io = 40\n",
    "Go = 70\n",
    "Xo = 2\n",
    "h = 0.7\n",
    "b = 0.8\n",
    "m = 0.2\n",
    "t = 0.3\n",
    "r = 0.9\n",
    "\n",
    "Y = np.arange(Y_size)\n",
    "\n",
    "    # Ecuación \n",
    "def DA_K(Co, Io, Go, Xo, h, r, b, m, t, Y):\n",
    "    DA_K = (Co + Io + Go + Xo - h*r) + ((b - m)*(1 - t)*Y)\n",
    "    return DA_K\n",
    "\n",
    "DA_IS_K = DA_K(Co, Io, Go, Xo, h, r, b, m, t, Y)\n",
    "\n",
    "\n",
    "#--------------------------------------------------\n",
    "# NUEVA curva de ingreso de equilibrio\n",
    "\n",
    "    # Definir SOLO el parámetro cambiado\n",
    "Go = 95\n",
    "\n",
    "# Generar la ecuación con el nuevo parámetro\n",
    "def DA_K(Co, Io, Go, Xo, h, r, b, m, t, Y):\n",
    "    DA_K = (Co + Io + Go + Xo - h*r) + ((b - m)*(1 - t)*Y)\n",
    "    return DA_K\n",
    "\n",
    "DA_G = DA_K(Co, Io, Go, Xo, h, r, b, m, t, Y)"
   ]
  },
  {
   "cell_type": "code",
   "execution_count": 100,
   "id": "31ebffab",
   "metadata": {},
   "outputs": [
    {
     "data": {
      "image/png": "[encoded data removed]",
      "text/plain": [
       "<Figure size 720x576 with 1 Axes>"
      ]
     },
     "metadata": {
      "needs_background": "light"
     },
     "output_type": "display_data"
    }
   ],
   "source": [
    "# Gráfico\n",
    "y_max = np.max(DA_IS_K)\n",
    "fig, ax = plt.subplots(figsize=(10, 8))\n",
    "\n",
    "\n",
    "# Curvas a graficar\n",
    "ax.plot(Y, DA_IS_K, label = \"DA\", color = \"#404040\") #curva ORIGINAL\n",
    "ax.plot(Y, DA_G, label = \"DA_G\", color = \"#6A0888\", linestyle = 'dashed') #NUEVA curva\n",
    "ax.plot(Y, L_45, color = \"#404040\") #línea de 45º\n",
    "\n",
    "# Lineas punteadas\n",
    "plt.axvline(x = 70, ymin= 0, ymax = 0.69, linestyle = \":\", color = \"grey\")\n",
    "plt.axhline(y = 175, xmin= 0, xmax = 0.70, linestyle = \":\", color = \"grey\")\n",
    "plt.axvline(x = 79,  ymin= 0, ymax = 0.80, linestyle = \":\", color = \"grey\")\n",
    "plt.axhline(y = 206, xmin= 0, xmax = 0.80, linestyle = \":\", color = \"grey\")\n",
    "\n",
    "# Texto agregado\n",
    "plt.text(0, 190, '$DA_G$', fontsize = 11.5, color = '#6A0888')\n",
    "plt.text(0, 125, '$DA^e$', fontsize = 11.5, color = 'black')\n",
    "plt.text(6, 4, '$45°$', fontsize = 11.5, color = 'black')\n",
    "plt.text(2.5, -3, '$◝$', fontsize = 30, color = '#404040')\n",
    "plt.text(70, 0, '$Y^e$', fontsize = 12, color = 'black')\n",
    "plt.text(85, 0, '$Y_G$', fontsize = 12, color = '#6A0888')\n",
    "plt.text(70, 45, '$→$', fontsize = 18, color = 'grey')\n",
    "plt.text(20, 165, '$↑$', fontsize = 18, color = 'grey')\n",
    "\n",
    "# Título y leyenda\n",
    "ax.set(title = \"Aumento del Gasto del Gobierno $(G_0)$\", xlabel = r'Y', ylabel = r'DA')\n",
    "ax.legend()\n",
    "\n",
    "plt.show()"
   ]
  },
  {
   "cell_type": "markdown",
   "id": "34a440ba",
   "metadata": {},
   "source": [
    "- Analice una Política fiscal expansiva con una reducción de la Tasa de Tributación $( △t<0)$. El análisis debe ser intuitivo, matemático y gráfico."
   ]
  },
  {
   "cell_type": "markdown",
   "id": "3e36d4f6",
   "metadata": {},
   "source": [
    "- Intuición: ¿contradicción?\n",
    "\n",
    "$$ t↓ → Co↑ → DA↑ → DA > Y → Y↑ $$\n",
    "$$ t↓ → M↑ → DA↓ → DA < Y → Y↓ $$"
   ]
  },
  {
   "cell_type": "markdown",
   "id": "f619107c",
   "metadata": {},
   "source": [
    "- Matemáticamente: $∆t < 0  →  ¿∆Y?$\n"
   ]
  },
  {
   "cell_type": "code",
   "execution_count": 7,
   "id": "93ceaf0a",
   "metadata": {},
   "outputs": [
    {
     "data": {
      "text/latex": [
       "$\\displaystyle \\frac{\\left(- b + m\\right) \\left(Co + Go + Io + Xo - h r\\right)}{\\left(- \\left(1 - t\\right) \\left(b - m\\right) + 1\\right)^{2}}$"
      ],
      "text/plain": [
       "(-b + m)*(Co + Go + Io + Xo - h*r)/(-(1 - t)*(b - m) + 1)**2"
      ]
     },
     "execution_count": 7,
     "metadata": {},
     "output_type": "execute_result"
    }
   ],
   "source": [
    "Co, Io, Go, Xo, h, r, b, m, t = symbols('Co Io Go Xo h r b m t')\n",
    "\n",
    "f = (Co + Io + Go + Xo - h*r)/(1-(b-m)*(1-t))\n",
    "\n",
    "\n",
    "df_t = diff(f, t)\n",
    "df_t #∆Y/∆t"
   ]
  },
  {
   "cell_type": "markdown",
   "id": "01e525db",
   "metadata": {},
   "source": [
    "Considernado el diferencial de $∆t$:\n",
    "\n",
    "$$ \\frac{∆Y}{∆t} = \\frac{(m-b)(Co + Go + Io + Xo - hr)}{(1-(1-t)(b-m)+1)^2} $$\n",
    "\n",
    "- Sabiendo que b > m, entonces $(m-b) < 0$\n",
    "- Los componentes autónomos no cambian: $∆C_0 = ∆I_0 = ∆X_0 = ∆h = ∆r = 0$\n",
    "- Cualquier número elevado al cuadrado será positivo: $ (1-(1-t)(b-m)+1)^2 > 0 $\n",
    "\n",
    "Entonces:\n",
    "\n",
    "$$ \\frac{∆Y}{∆t} = \\frac{(-)}{(+)} $$\n",
    "\n",
    "Dado que $∆t < 0$, la división de dos positivos da otro positivo:\n",
    "\n",
    "$$ \\frac{∆Y}{(-)} = \\frac{(-)}{(+)} $$\n",
    "\n",
    "$$ ∆Y = \\frac{(-)(-)}{(+)} $$\n",
    "\n",
    "$$ ∆Y > 0 $$\n"
   ]
  },
  {
   "cell_type": "markdown",
   "id": "f39d88f2",
   "metadata": {},
   "source": [
    "#### - Graficamente:"
   ]
  },
  {
   "cell_type": "code",
   "execution_count": 101,
   "id": "186f2c6e",
   "metadata": {},
   "outputs": [],
   "source": [
    "# Curva de ingreso de equilibrio ORIGINAL\n",
    "\n",
    "# Parámetros\n",
    "t_size = 100 \n",
    "\n",
    "Co = 35\n",
    "Io = 40\n",
    "Go = 70\n",
    "Xo = 2\n",
    "h = 0.7\n",
    "b = 0.8\n",
    "m = 0.2\n",
    "t = 0.3 #tasa de tributación\n",
    "r = 0.9\n",
    "\n",
    "Y = np.arange(t_size)\n",
    "\n",
    "# Ecuación \n",
    "def DA_K(Co, Io, Go, Xo, h, r, b, m, t, Y):\n",
    "    DA_K = (Co + Io + Go + Xo - h*r) + ((b - m)*(1 - t)*Y)\n",
    "    return DA_K\n",
    "\n",
    "DA_IS_K = DA_K(Co, Io, Go, Xo, h, r, b, m, t, Y)\n",
    "\n",
    "#--------------------------------------------------\n",
    "# NUEVA curva de ingreso de equilibrio\n",
    "\n",
    "# Definimos el parámetro cambiado\n",
    "t = 0.1\n",
    "\n",
    "# Generar la ecuación con el nuevo parámetros\n",
    "def DA_K(Co, Io, Go, Xo, h, r, b, m, t, Y):\n",
    "    DA_K = (Co + Io + Go + Xo - h*r) + ((b - m)*(1 - t)*Y)\n",
    "    return DA_K\n",
    "\n",
    "DA_T = DA_K(Co, Io, Go, Xo, h, r, b, m, t, Y)"
   ]
  },
  {
   "cell_type": "code",
   "execution_count": 118,
   "id": "c6c63b38",
   "metadata": {
    "scrolled": true
   },
   "outputs": [
    {
     "data": {
      "image/png": "[encoded data removed]",
      "text/plain": [
       "<Figure size 720x576 with 1 Axes>"
      ]
     },
     "metadata": {
      "needs_background": "light"
     },
     "output_type": "display_data"
    }
   ],
   "source": [
    "# Gráfico\n",
    "y_max = np.max(DA_IS_K)\n",
    "fig, ax = plt.subplots(figsize=(10, 8))\n",
    "\n",
    "# Curvas a graficar\n",
    "ax.plot(Y, DA_IS_K, label = \"DA\", color = \"#3c9eff\") #curva ORIGINAL\n",
    "ax.plot(Y, DA_T, label = \"DA_T\", color = \"#DF0174\", linestyle = 'dashed') #NUEVA curva\n",
    "ax.plot(Y, L_45, color = \"#404040\") #línea de 45º\n",
    "\n",
    "# Lineas punteadas\n",
    "plt.axvline(x = 70, ymin= 0, ymax = 0.69, linestyle = \":\", color = \"grey\")\n",
    "plt.axhline(y = 176, xmin= 0, xmax = 0.7, linestyle = \":\", color = \"grey\")\n",
    "plt.axvline(x = 75,  ymin= 0, ymax = 0.75, linestyle = \":\", color = \"grey\")\n",
    "plt.axhline(y = 187, xmin= 0, xmax = 0.75, linestyle = \":\", color = \"grey\")\n",
    "\n",
    "# Texto agregado\n",
    "plt.text(0, 180, '$DA^e$', fontsize = 11.5, color = 'black')\n",
    "plt.text(0, 200, '$DA_t$', fontsize = 11.5, color = '#DF0174')\n",
    "plt.text(6, 4, '$45°$', fontsize = 11.5, color = 'black')\n",
    "plt.text(2.5, -3, '$◝$', fontsize = 30, color = '#404040')\n",
    "plt.text(65, 0, '$Y^e$', fontsize = 12, color = 'black')\n",
    "plt.text(80, 0, '$Y_t$', fontsize = 12, color = '#DF0174')\n",
    "plt.text(72, 45, '$→$', fontsize = 18, color = 'black')\n",
    "plt.text(20, 180, '$↑$', fontsize = 18, color = 'black')\n",
    "\n",
    "# Título y leyenda\n",
    "ax.set(title = \"Efectos de reducción de la Tasa de Tributación\", xlabel = r'Y', ylabel = r'DA^e')\n",
    "ax.legend()\n",
    "\n",
    "plt.show()"
   ]
  },
  {
   "cell_type": "markdown",
   "id": "409f5a04",
   "metadata": {},
   "source": [
    "6. Estática comparativa en el modelo de Ingreso-Gasto keynesiano con Regla Contracíclica.\n",
    "Ahora vamos a utilizar un modelo con regla contracíclica. Este tipo de política fiscal hace que los auges y las depresiones no sean muy pronunciados. Se establece como una regla consistente en una variación del Gasto (G)(La magnitud es exactamente igual que en 5) en sentido contrario a la variación del Producto, Y. Utilice las siguientes ecuaciones y responda."
   ]
  },
  {
   "cell_type": "markdown",
   "id": "a470e784",
   "metadata": {},
   "source": [
    "- Grafique la Funcion de demanda Agregada y la recta de 45 grados señalando los valores de intercepto y pendiente como en el apartado (4).\n"
   ]
  },
  {
   "cell_type": "code",
   "execution_count": 143,
   "id": "afa8a0f5",
   "metadata": {},
   "outputs": [],
   "source": [
    "# Parámetros\n",
    "\n",
    "Y_size = 100 \n",
    "\n",
    "Co = 35\n",
    "Io = 40\n",
    "Go = 70\n",
    "Xo = 2\n",
    "h = 0.7\n",
    "b = 0.8 # b > m\n",
    "m = 0.2\n",
    "t = 0.3\n",
    "r = 0.9\n",
    "g = 0.3\n",
    "\n",
    "Y = np.arange(Y_size)\n",
    "\n",
    "# Ecuación de la curva del ingreso de equilibrio\n",
    "\n",
    "def DA_g(Co, Io, Go, Xo, h, r, b, m, t, g, Y):\n",
    "    DA_g = (Co + Io + Go + Xo - h*r) + ((b - m)*(1 - t)-g)*Y\n",
    "    return DA_g\n",
    "\n",
    "DA_IS_G = DA_g(Co, Io, Go, Xo, h, r, b, m, t, g, Y)"
   ]
  },
  {
   "cell_type": "code",
   "execution_count": 144,
   "id": "cc9f02dd",
   "metadata": {},
   "outputs": [
    {
     "data": {
      "image/png": "[encoded data removed]",
      "text/plain": [
       "<Figure size 720x576 with 1 Axes>"
      ]
     },
     "metadata": {},
     "output_type": "display_data"
    }
   ],
   "source": [
    "# Gráfico\n",
    "\n",
    "# Dimensiones del gráfico\n",
    "y_max = np.max(DA_IS_G)\n",
    "fig, ax = plt.subplots(figsize=(10, 8))\n",
    "\n",
    "# Curvas a graficar\n",
    "ax.plot(Y, DA_IS_G, label = \"DA\", color = \"#01A9DB\") #Demanda agregada\n",
    "ax.plot(Y, L_45, color = \"#404040\") #Línea de 45º\n",
    "\n",
    "# Eliminar las cantidades de los ejes\n",
    "ax.yaxis.set_major_locator(plt.NullLocator())   \n",
    "ax.xaxis.set_major_locator(plt.NullLocator())\n",
    "\n",
    "# Líneas punteadas punto de equilibrio\n",
    "plt.axvline(x=61.5,  ymin= 0, ymax= 0.61, linestyle = \":\", color = \"grey\")\n",
    "plt.axhline(y=154.5, xmin= 0, xmax= 0.60, linestyle = \":\", color = \"grey\")\n",
    "\n",
    "# Texto agregado\n",
    "    # punto de equilibrio\n",
    "plt.text(0, 157, '$DA^e$', fontsize = 11.5, color = 'black')\n",
    "plt.text(74, 142, '$DA = a_0 + a_1Y$', fontsize = 11.5, color = 'black')\n",
    "plt.text(74, 132, '$α_1=(b-m)(1-t)-g)$', fontsize = 11.5, color = 'black')\n",
    "plt.text(55, 0, '$Y^e$', fontsize = 12, color = 'black')\n",
    "plt.text(0, 134, '$α_0=(C_o + I_o + G_o + X_o-hr)$', fontsize = 10, color = 'black')\n",
    "\n",
    "    # línea 45º\n",
    "plt.text(6, 4, '$45°$', fontsize = 11.5, color = 'black')\n",
    "plt.text(2.5, -3, '$◝$', fontsize = 30, color = '#01A9DB')\n",
    "\n",
    "# Título y leyenda\n",
    "ax.set(title=\"Función de demanda Agregada\", xlabel= r'Y', ylabel= r'DA')\n",
    "ax.legend() #mostrar leyenda\n",
    "\n",
    "plt.show()"
   ]
  },
  {
   "cell_type": "markdown",
   "id": "c1d0ed87",
   "metadata": {},
   "source": [
    "- Encuentre el nivel de Ingreso de equilibrio $Y^e$"
   ]
  },
  {
   "cell_type": "markdown",
   "id": "830d6ecc",
   "metadata": {},
   "source": [
    "La ecuación de equilibrio para el Ingreso se deriva de la condición de equilibrio donde el nivel de producción es igual a la Demanda Agregada: $DA = Y$:\n",
    "​\n",
    "$$ DA = C + I + G + X - M $$\n",
    "​\n",
    "Donde:\n",
    "​\n",
    "$$ C = C_0 + bY^d $$\n",
    "$$ I = I_0 - hr $$\n",
    "$$ G = G_0 - gY $$\n",
    "$$ X = X_0 $$\n",
    "$$ M = mY^d $$\n",
    "​\n",
    "$$ Y^d = 1 - t $$"
   ]
  },
  {
   "cell_type": "markdown",
   "id": "f0985841",
   "metadata": {},
   "source": [
    "Entonces: \n",
    "​\n",
    "$$ DA = C_0 + I_0 + G_0 + X_0 - hr + Y[(b - m)(1 - t) - g] $$\n",
    "​\n",
    "De forma corta:\n",
    "​\n",
    "$$ DA = α_0 + α_1Y $$\n",
    "​\n",
    "Donde $ α_0 = (C_0 + I_0 + G_0 + X_0 -hr)$ es el intercepto y $ α_1 = [(b - m)(1 - t) - g] $ es la pendiente de la función"
   ]
  },
  {
   "cell_type": "markdown",
   "id": "38f3f988",
   "metadata": {},
   "source": [
    "Ahora, considerando la condición de equilibrio $Y = DA$, la ecuación del ingreso de equilibrio a corto plazo es:\n",
    "\n",
    "$$ Y^e = \\frac{1}{1 - (b - m)(1 - t) + g} (C_0 + I_0 + G_0 + X_0 - hr) $$"
   ]
  },
  {
   "cell_type": "markdown",
   "id": "f9ce8d0b",
   "metadata": {},
   "source": [
    "- Analice una Política Fiscal Expansiva con aumento del Gasto del Gobierno $( △G>0)$.El análisis debe ser intuitivo, matemático y gráfico."
   ]
  },
  {
   "cell_type": "markdown",
   "id": "029c8ad4",
   "metadata": {},
   "source": [
    "- Intuición: \n",
    "\n",
    "$$ ↑Go → ↑DA → DA > Y → ↑Y $$"
   ]
  },
  {
   "cell_type": "markdown",
   "id": "5c75a9f3",
   "metadata": {},
   "source": [
    "- Matemáticamente: $∆G_0 < 0  →  ¿∆Y?$"
   ]
  },
  {
   "cell_type": "code",
   "execution_count": 8,
   "id": "684390b7",
   "metadata": {},
   "outputs": [
    {
     "data": {
      "text/latex": [
       "$\\displaystyle \\frac{1}{g - \\left(1 - t\\right) \\left(b - m\\right) + 1}$"
      ],
      "text/plain": [
       "1/(g - (1 - t)*(b - m) + 1)"
      ]
     },
     "execution_count": 8,
     "metadata": {},
     "output_type": "execute_result"
    }
   ],
   "source": [
    "# Diferenciales\n",
    "\n",
    "    # nombrar variables como símbolos\n",
    "Co, Io, Go, Xo, h, r, b, m, t, g = symbols('Co Io Go Xo h r b m t g')\n",
    "\n",
    "    # determinar ecuación\n",
    "f = (Co + Io + Go + Xo - h*r)/(1 - (b - m)*(1 - t) + g)\n",
    "\n",
    "    # función diferencial\n",
    "df_Go = diff(f, Go) # diff(función, variable_analizar\n",
    "df_Go #∆Y/∆Go\n"
   ]
  },
  {
   "cell_type": "markdown",
   "id": "36c6bf67",
   "metadata": {},
   "source": [
    "Considernado el diferencial obtenido:\n",
    "\n",
    "$$ \\frac{∆Y}{∆Go} = \\frac{1}{1 - (b - m)(1 - t) + g} $$"
   ]
  },
  {
   "cell_type": "markdown",
   "id": "9cc88265",
   "metadata": {},
   "source": [
    "Sabiendo que al multiplicador keynesiano $(k > 0)$ se le adiciona el parámetro $g$, el denominador continuará siendo positivo (aunque más grande y con una pendiente de curva reducida).\n",
    "\n",
    "Y considerando que $∆G_0 > 0 $, la multiplicación de un número positivo con otro positivo dará un positivo:\n",
    "\n",
    "$$ \\frac{∆Y}{(+)} = (+) $$\n",
    "$$ ∆Y = (+)(+) $$\n",
    "$$ ∆Y > 0 $$"
   ]
  },
  {
   "cell_type": "markdown",
   "id": "d7b0bb8b",
   "metadata": {},
   "source": [
    "#### - Graficamente"
   ]
  },
  {
   "cell_type": "code",
   "execution_count": 146,
   "id": "6d470691",
   "metadata": {},
   "outputs": [],
   "source": [
    "# Curva de ingreso de equilibrio Original \n",
    "\n",
    "    #Parámetros\n",
    "    \n",
    "Y_size = 100 \n",
    "\n",
    "Co = 35\n",
    "Io = 40\n",
    "Go = 70\n",
    "Xo = 2\n",
    "h = 0.7\n",
    "b = 0.8\n",
    "m = 0.2\n",
    "t = 0.3\n",
    "r = 0.9\n",
    "g = 0.3\n",
    "\n",
    "Y = np.arange(Y_size)\n",
    "\n",
    "    # Ecuación \n",
    "def DA_K(Co, Io, Go, Xo, h, r, b, m, t, g, Y):\n",
    "    DA_K = (Co + Io + Go + Xo - h*r) + ((b - m)*(1 - t)-g*Y)\n",
    "    return DA_K\n",
    "\n",
    "DA_IS_K = DA_K(Co, Io, Go, Xo, h, r, b, m, t, g, Y)\n",
    "\n",
    "\n",
    "#--------------------------------------------------\n",
    "# NUEVA curva de ingreso de equilibrio\n",
    "\n",
    "    # Definir SOLO el parámetro cambiado\n",
    "Go = 100\n",
    "\n",
    "# Generar la ecuación con el nuevo parámetro\n",
    "def DA_K(Co, Io, Go, Xo, h, r, b, m, t, g, Y):\n",
    "    DA_K = (Co + Io + Go + Xo - h*r) + ((b - m)*(1 - t)*Y)\n",
    "    return DA_K\n",
    "\n",
    "DA_G = DA_K(Co, Io, Go, Xo, h, r, b, m, t, g, Y)"
   ]
  },
  {
   "cell_type": "code",
   "execution_count": 142,
   "id": "0df44d5e",
   "metadata": {},
   "outputs": [
    {
     "data": {
      "image/png": "[encoded data removed]",
      "text/plain": [
       "<Figure size 720x576 with 1 Axes>"
      ]
     },
     "metadata": {
      "needs_background": "light"
     },
     "output_type": "display_data"
    }
   ],
   "source": [
    "# Gráfico\n",
    "y_max = np.max(DA_IS_K)\n",
    "fig, ax = plt.subplots(figsize=(10, 8))\n",
    "\n",
    "\n",
    "# Curvas a graficar\n",
    "ax.plot(Y, DA_IS_K, label = \"DA\", color = \"#404040\") #curva ORIGINAL\n",
    "ax.plot(Y, DA_G, label = \"DA_G\", color = \"#6A0888\", linestyle = 'dashed') #NUEVA curva\n",
    "ax.plot(Y, L_45, color = \"#404040\") #línea de 45º\n",
    "\n",
    "# Lineas punteadas\n",
    "plt.axvline(x = 70, ymin= 0, ymax = 0.69, linestyle = \":\", color = \"grey\")\n",
    "plt.axhline(y = 175, xmin= 0, xmax = 0.70, linestyle = \":\", color = \"grey\")\n",
    "plt.axvline(x = 79,  ymin= 0, ymax = 0.80, linestyle = \":\", color = \"grey\")\n",
    "plt.axhline(y = 206, xmin= 0, xmax = 0.80, linestyle = \":\", color = \"grey\")\n",
    "\n",
    "# Texto agregado\n",
    "plt.text(0, 190, '$DA_G$', fontsize = 11.5, color = '#6A0888')\n",
    "plt.text(0, 125, '$DA^e$', fontsize = 11.5, color = 'black')\n",
    "plt.text(6, 4, '$45°$', fontsize = 11.5, color = 'black')\n",
    "plt.text(2.5, -3, '$◝$', fontsize = 30, color = '#404040')\n",
    "plt.text(70, 0, '$Y^e$', fontsize = 12, color = 'black')\n",
    "plt.text(85, 0, '$Y_G$', fontsize = 12, color = '#6A0888')\n",
    "plt.text(70, 45, '$→$', fontsize = 18, color = 'grey')\n",
    "plt.text(20, 165, '$↑$', fontsize = 18, color = 'grey')\n",
    "\n",
    "# Título y leyenda\n",
    "ax.set(title = \"Aumento del Gasto del Gobierno politica contraciclica $(G_0)$\", xlabel = r'Y', ylabel = r'DA')\n",
    "ax.legend()\n",
    "\n",
    "plt.show()"
   ]
  },
  {
   "cell_type": "markdown",
   "id": "aad86613",
   "metadata": {},
   "source": [
    "- ¿Cuál es el papel que juega el parametro $g$ en el multiplicador keynesiano?"
   ]
  },
  {
   "cell_type": "markdown",
   "id": "e86f0976",
   "metadata": {},
   "source": [
    "El parámetro $g$ de la regla contracíclica aparece aumentando la magnitud del denominador del multiplicador keynesiano $(k)$ y, por lo tanto, reduciendo su tamaño. Al reducir el tamaño de $k$ la pendiente de la curva de Demanda Agregada $(DA)$ también se reducirá."
   ]
  },
  {
   "cell_type": "markdown",
   "id": "0c56a114",
   "metadata": {},
   "source": [
    "- El tamaño del efecto de la politica fiscal encontrado en 6 es el mismo que en el apartado 5 ?"
   ]
  },
  {
   "cell_type": "markdown",
   "id": "da0e01e0",
   "metadata": {},
   "source": [
    "No, el tamaño del efecto de la política fiscal del ejercicio 6) es menor al efecto del ejercicio 5).  Esto se debe a que el valor del multiplicador keynesiano $(k)$ se ha reducido por la adición de $g$ en el denominador. Entonces, si $k$ es más pequeño, el impacto de una política fiscal expansiva $(∆G_0)$ será menor cuando se utilice la regla contracíclica (la adición de $g$). De allí que la pendiente de la curva de la Demanda Agregada $(DA)$ sea menor en el apartado 6)."
   ]
  },
  {
   "cell_type": "markdown",
   "id": "f6fd4e3e",
   "metadata": {},
   "source": [
    "- Analice una crisis mundial que reduce nuestras exportaciones $(△M<0)$. El análisis debe ser intuitivo, matemático y gráfico."
   ]
  },
  {
   "cell_type": "markdown",
   "id": "8d66ec59",
   "metadata": {},
   "source": [
    "- Intuición: \n",
    "\n",
    "$$ ↓Xo → ↓DA → DA < Y → ↓Y $$"
   ]
  },
  {
   "cell_type": "markdown",
   "id": "c9bfe3ac",
   "metadata": {},
   "source": [
    "- Matemáticamente:"
   ]
  },
  {
   "cell_type": "code",
   "execution_count": 10,
   "id": "3e157b2e",
   "metadata": {},
   "outputs": [
    {
     "data": {
      "text/latex": [
       "$\\displaystyle \\frac{1}{g - \\left(1 - t\\right) \\left(b - m\\right) + 1}$"
      ],
      "text/plain": [
       "1/(g - (1 - t)*(b - m) + 1)"
      ]
     },
     "execution_count": 10,
     "metadata": {},
     "output_type": "execute_result"
    }
   ],
   "source": [
    "# Diferenciales\n",
    "\n",
    "    # nombrar variables como símbolos\n",
    "Co, Io, Go, Xo, h, r, b, m, t, g = symbols('Co Io Go Xo h r b m t g')\n",
    "\n",
    "    # determinar ecuación\n",
    "f = (Co + Io + Go + Xo - h*r)/(1 - (b - m)*(1 - t) + g)\n",
    "\n",
    "    # función diferencial\n",
    "df_Xo = diff(f, Xo) # diff(función, variable_analizar\n",
    "df_Xo #∆Y/∆Go\n"
   ]
  },
  {
   "cell_type": "markdown",
   "id": "a177e8be",
   "metadata": {},
   "source": [
    "Considernado el diferencial obtenido:\n",
    "\n",
    "$$ \\frac{∆Y}{∆X_0} = \\frac{1}{1 - (b - m)(1 - t) + g} $$"
   ]
  },
  {
   "cell_type": "markdown",
   "id": "cc99f733",
   "metadata": {},
   "source": [
    "Sabiendo que al multiplicador keynesiano $(k > 0)$ se le adiciona el parámetro $g$, el denominador continuará siendo positivo (aunque más grande y con una pendiente de curva reducida).\n",
    "\n",
    "Y considerando que $∆X_0 < 0 $, la multiplicación de un número positivo con un negativo dará un negativo:\n",
    "\n",
    "$$ \\frac{∆Y}{(-)} = (+) $$\n",
    "$$ ∆Y = (-)(+) $$\n",
    "$$ ∆Y < 0 $$\n",
    "\n",
    "- Graficamente:"
   ]
  },
  {
   "cell_type": "code",
   "execution_count": 11,
   "id": "09faec42",
   "metadata": {},
   "outputs": [],
   "source": [
    "# Parámetros\n",
    "\n",
    "Y_size = 100 \n",
    "\n",
    "Co = 35\n",
    "Io = 40\n",
    "Go = 70\n",
    "g = 0.2 #solo valores entre 0-0.4\n",
    "Xo = 15\n",
    "h = 0.7\n",
    "b = 0.8 # b > m\n",
    "m = 0.2\n",
    "t = 0.3\n",
    "r = 0.9\n",
    "\n",
    "Y = np.arange(Y_size)\n",
    "\n",
    "# Ecuación de la curva del ingreso de equilibrio\n",
    "\n",
    "def DA_C(Co, Io, Go, Xo, h, r, b, m, t, g, Y):\n",
    "    DA_C = (Co  + Io + Go + Xo - h*r) + [(b-m)*(1-t)-g]*Y\n",
    "    return DA_C\n",
    "\n",
    "DA_Cont = DA_C(Co, Io, Go, Xo, h, r, b, m, t, g, Y)\n",
    "\n",
    "\n",
    "# Nueva curva\n",
    "\n",
    "Xo = 1\n",
    "\n",
    "def DA_C(Co, Io, Go, Xo, h, r, b, m, t, g, Y):\n",
    "    DA_C = (Co  + Io + Go + Xo - h*r) + [(b-m)*(1-t)-g]*Y\n",
    "    return DA_C\n",
    "\n",
    "DA_C_X = DA_C(Co, Io, Go, Xo, h, r, b, m, t, g, Y)"
   ]
  },
  {
   "cell_type": "code",
   "execution_count": 12,
   "id": "d30c4ded",
   "metadata": {},
   "outputs": [
    {
     "ename": "NameError",
     "evalue": "name 'L_45' is not defined",
     "output_type": "error",
     "traceback": [
      "\u001b[1;31m---------------------------------------------------------------------------\u001b[0m",
      "\u001b[1;31mNameError\u001b[0m                                 Traceback (most recent call last)",
      "Input \u001b[1;32mIn [12]\u001b[0m, in \u001b[0;36m<cell line: 24>\u001b[1;34m()\u001b[0m\n\u001b[0;32m     21\u001b[0m A \u001b[38;5;241m=\u001b[39m [DA_Cont[\u001b[38;5;241m0\u001b[39m], Y[\u001b[38;5;241m0\u001b[39m]] \u001b[38;5;66;03m# DA, coordenada inicio\u001b[39;00m\n\u001b[0;32m     22\u001b[0m B \u001b[38;5;241m=\u001b[39m [DA_Cont[\u001b[38;5;241m-\u001b[39m\u001b[38;5;241m1\u001b[39m], Y[\u001b[38;5;241m-\u001b[39m\u001b[38;5;241m1\u001b[39m]] \u001b[38;5;66;03m# DA, coordenada fin\u001b[39;00m\n\u001b[1;32m---> 24\u001b[0m C \u001b[38;5;241m=\u001b[39m [\u001b[43mL_45\u001b[49m[\u001b[38;5;241m0\u001b[39m], Y[\u001b[38;5;241m0\u001b[39m]] \u001b[38;5;66;03m# L_45, coordenada inicio\u001b[39;00m\n\u001b[0;32m     25\u001b[0m D \u001b[38;5;241m=\u001b[39m [L_45[\u001b[38;5;241m-\u001b[39m\u001b[38;5;241m1\u001b[39m], Y[\u001b[38;5;241m-\u001b[39m\u001b[38;5;241m1\u001b[39m]] \u001b[38;5;66;03m# L_45, coordenada fin\u001b[39;00m\n\u001b[0;32m     27\u001b[0m     \u001b[38;5;66;03m# creación de intersección\u001b[39;00m\n",
      "\u001b[1;31mNameError\u001b[0m: name 'L_45' is not defined"
     ]
    }
   ],
   "source": [
    "# líneas punteadas autómaticas\n",
    "\n",
    "    # definir la función line_intersection\n",
    "def line_intersection(line1, line2):\n",
    "    xdiff = (line1[0][0] - line1[1][0], line2[0][0] - line2[1][0])\n",
    "    ydiff = (line1[0][1] - line1[1][1], line2[0][1] - line2[1][1])\n",
    "\n",
    "    def det(a, b):\n",
    "        return a[0] * b[1] - a[1] * b[0]\n",
    "\n",
    "    div = det(xdiff, ydiff)\n",
    "    if div == 0:\n",
    "       raise Exception('lines do not intersect')\n",
    "\n",
    "    d = (det(*line1), det(*line2))\n",
    "    x = det(d, xdiff) / div\n",
    "    y = det(d, ydiff) / div\n",
    "    return x, y\n",
    "\n",
    "    # coordenadas de las curvas (x,y)\n",
    "A = [DA_Cont[0], Y[0]] # DA, coordenada inicio\n",
    "B = [DA_Cont[-1], Y[-1]] # DA, coordenada fin\n",
    "\n",
    "C = [L_45[0], Y[0]] # L_45, coordenada inicio\n",
    "D = [L_45[-1], Y[-1]] # L_45, coordenada fin\n",
    "\n",
    "    # creación de intersección\n",
    "\n",
    "intersec = line_intersection((A, B), (C, D))\n",
    "intersec # (y,x)"
   ]
  },
  {
   "cell_type": "code",
   "execution_count": 13,
   "id": "a10fb8d5",
   "metadata": {},
   "outputs": [
    {
     "ename": "NameError",
     "evalue": "name 'L_45' is not defined",
     "output_type": "error",
     "traceback": [
      "\u001b[1;31m---------------------------------------------------------------------------\u001b[0m",
      "\u001b[1;31mNameError\u001b[0m                                 Traceback (most recent call last)",
      "Input \u001b[1;32mIn [13]\u001b[0m, in \u001b[0;36m<cell line: 5>\u001b[1;34m()\u001b[0m\n\u001b[0;32m      2\u001b[0m A \u001b[38;5;241m=\u001b[39m [DA_C_X[\u001b[38;5;241m0\u001b[39m], Y[\u001b[38;5;241m0\u001b[39m]] \u001b[38;5;66;03m# DA, coordenada inicio\u001b[39;00m\n\u001b[0;32m      3\u001b[0m B \u001b[38;5;241m=\u001b[39m [DA_C_X[\u001b[38;5;241m-\u001b[39m\u001b[38;5;241m1\u001b[39m], Y[\u001b[38;5;241m-\u001b[39m\u001b[38;5;241m1\u001b[39m]] \u001b[38;5;66;03m# DA, coordenada fin\u001b[39;00m\n\u001b[1;32m----> 5\u001b[0m C \u001b[38;5;241m=\u001b[39m [\u001b[43mL_45\u001b[49m[\u001b[38;5;241m0\u001b[39m], Y[\u001b[38;5;241m0\u001b[39m]] \u001b[38;5;66;03m# L_45, coordenada inicio\u001b[39;00m\n\u001b[0;32m      6\u001b[0m D \u001b[38;5;241m=\u001b[39m [L_45[\u001b[38;5;241m-\u001b[39m\u001b[38;5;241m1\u001b[39m], Y[\u001b[38;5;241m-\u001b[39m\u001b[38;5;241m1\u001b[39m]] \u001b[38;5;66;03m# L_45, coordenada fin\u001b[39;00m\n\u001b[0;32m      8\u001b[0m   \u001b[38;5;66;03m# creación de intersección\u001b[39;00m\n",
      "\u001b[1;31mNameError\u001b[0m: name 'L_45' is not defined"
     ]
    }
   ],
   "source": [
    "  # coordenadas de las curvas (x,y)\n",
    "A = [DA_C_X[0], Y[0]] # DA, coordenada inicio\n",
    "B = [DA_C_X[-1], Y[-1]] # DA, coordenada fin\n",
    "\n",
    "C = [L_45[0], Y[0]] # L_45, coordenada inicio\n",
    "D = [L_45[-1], Y[-1]] # L_45, coordenada fin\n",
    "\n",
    "    # creación de intersección\n",
    "\n",
    "intersec_X = line_intersection((A, B), (C, D))\n",
    "intersec_X # (y,x)"
   ]
  },
  {
   "cell_type": "code",
   "execution_count": 14,
   "id": "25c25942",
   "metadata": {},
   "outputs": [
    {
     "ename": "NameError",
     "evalue": "name 'L_45' is not defined",
     "output_type": "error",
     "traceback": [
      "\u001b[1;31m---------------------------------------------------------------------------\u001b[0m",
      "\u001b[1;31mNameError\u001b[0m                                 Traceback (most recent call last)",
      "Input \u001b[1;32mIn [14]\u001b[0m, in \u001b[0;36m<cell line: 9>\u001b[1;34m()\u001b[0m\n\u001b[0;32m      7\u001b[0m ax\u001b[38;5;241m.\u001b[39mplot(DA_Cont, label \u001b[38;5;241m=\u001b[39m \u001b[38;5;124m\"\u001b[39m\u001b[38;5;124mDA\u001b[39m\u001b[38;5;124m\"\u001b[39m, color \u001b[38;5;241m=\u001b[39m \u001b[38;5;124m\"\u001b[39m\u001b[38;5;124m#3D59AB\u001b[39m\u001b[38;5;124m\"\u001b[39m) \u001b[38;5;66;03m#curva ORIGINAL\u001b[39;00m\n\u001b[0;32m      8\u001b[0m ax\u001b[38;5;241m.\u001b[39mplot(DA_C_X, label \u001b[38;5;241m=\u001b[39m \u001b[38;5;124m\"\u001b[39m\u001b[38;5;124mDA_X\u001b[39m\u001b[38;5;124m\"\u001b[39m, color \u001b[38;5;241m=\u001b[39m \u001b[38;5;124m\"\u001b[39m\u001b[38;5;124m#EE7600\u001b[39m\u001b[38;5;124m\"\u001b[39m, linestyle \u001b[38;5;241m=\u001b[39m \u001b[38;5;124m'\u001b[39m\u001b[38;5;124mdashed\u001b[39m\u001b[38;5;124m'\u001b[39m) \u001b[38;5;66;03m#NUEVA curva\u001b[39;00m\n\u001b[1;32m----> 9\u001b[0m ax\u001b[38;5;241m.\u001b[39mplot(\u001b[43mL_45\u001b[49m, color \u001b[38;5;241m=\u001b[39m \u001b[38;5;124m\"\u001b[39m\u001b[38;5;124m#404040\u001b[39m\u001b[38;5;124m\"\u001b[39m) \u001b[38;5;66;03m#línea de 45º\u001b[39;00m\n\u001b[0;32m     11\u001b[0m \u001b[38;5;66;03m# Lineas punteadas\u001b[39;00m\n\u001b[0;32m     12\u001b[0m plt\u001b[38;5;241m.\u001b[39maxhline(y\u001b[38;5;241m=\u001b[39mintersec[\u001b[38;5;241m0\u001b[39m], xmin\u001b[38;5;241m=\u001b[39m \u001b[38;5;241m0\u001b[39m, xmax\u001b[38;5;241m=\u001b[39m \u001b[38;5;241m0.68\u001b[39m, linestyle \u001b[38;5;241m=\u001b[39m \u001b[38;5;124m\"\u001b[39m\u001b[38;5;124m:\u001b[39m\u001b[38;5;124m\"\u001b[39m, color \u001b[38;5;241m=\u001b[39m \u001b[38;5;124m\"\u001b[39m\u001b[38;5;124mgrey\u001b[39m\u001b[38;5;124m\"\u001b[39m)\n",
      "\u001b[1;31mNameError\u001b[0m: name 'L_45' is not defined"
     ]
    },
    {
     "data": {
      "image/png": "[encoded data removed]",
      "text/plain": [
       "<Figure size 720x576 with 1 Axes>"
      ]
     },
     "metadata": {
      "needs_background": "light"
     },
     "output_type": "display_data"
    }
   ],
   "source": [
    "# Gráfico\n",
    "y_max = np.max(DA_Cont)\n",
    "fig, ax = plt.subplots(figsize=(10, 8))\n",
    "\n",
    "\n",
    "# Curvas a graficar\n",
    "ax.plot(DA_Cont, label = \"DA\", color = \"#3D59AB\") #curva ORIGINAL\n",
    "ax.plot(DA_C_X, label = \"DA_X\", color = \"#EE7600\", linestyle = 'dashed') #NUEVA curva\n",
    "ax.plot(L_45, color = \"#404040\") #línea de 45º\n",
    "\n",
    "# Lineas punteadas\n",
    "plt.axhline(y=intersec[0], xmin= 0, xmax= 0.68, linestyle = \":\", color = \"grey\")\n",
    "plt.axvline(x=intersec[1], ymin= 0, ymax= 0.68, linestyle = \":\", color = \"grey\")\n",
    "\n",
    "plt.axhline(y=intersec_X[0], xmin= 0, xmax= 0.63, linestyle = \":\", color = \"grey\")\n",
    "plt.axvline(x=intersec_X[1], ymin= 0, ymax= 0.63, linestyle = \":\", color = \"grey\")\n",
    "\n",
    "\n",
    "# Texto agregado\n",
    "plt.text(0, 180, '$DA^e$', fontsize = 11.5, color = 'black')\n",
    "plt.text(0, 135, '$DA_X$', fontsize = 11.5, color = '#EE7600')\n",
    "plt.text(6, 4, '$45°$', fontsize = 11.5, color = 'black')\n",
    "plt.text(2.5, -3, '$◝$', fontsize = 30, color = '#404040')\n",
    "plt.text(71, 0, '$Y^e$', fontsize = 12, color = 'black')\n",
    "plt.text(60, 0, '$Y_X$', fontsize = 12, color = '#EE7600')\n",
    "plt.text(65.5, 45, '$←$', fontsize = 15, color = 'grey')\n",
    "plt.text(20, 165, '$↓$', fontsize = 15, color = 'grey')\n",
    "\n",
    "# Título y leyenda\n",
    "ax.set(title = \"Reducción de las Exportaciones\", xlabel = r'Y', ylabel = r'DA')\n",
    "ax.legend()\n",
    "\n",
    "plt.show()"
   ]
  }
 ],
 "metadata": {
  "kernelspec": {
   "display_name": "Python 3 (ipykernel)",
   "language": "python",
   "name": "python3"
  },
  "language_info": {
   "codemirror_mode": {
    "name": "ipython",
    "version": 3
   },
   "file_extension": ".py",
   "mimetype": "text/x-python",
   "name": "python",
   "nbconvert_exporter": "python",
   "pygments_lexer": "ipython3",
   "version": "3.9.12"
  }
 },
 "nbformat": 4,
 "nbformat_minor": 5
}
